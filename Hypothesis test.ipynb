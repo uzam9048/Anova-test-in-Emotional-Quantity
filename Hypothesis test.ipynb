{
 "cells": [
  {
   "cell_type": "code",
   "execution_count": 30,
   "metadata": {},
   "outputs": [],
   "source": [
    "import pandas as pd\n",
    "import numpy as np\n",
    "import seaborn as sns\n",
    "import matplotlib.pyplot as plt"
   ]
  },
  {
   "cell_type": "code",
   "execution_count": 77,
   "metadata": {},
   "outputs": [
    {
     "data": {
      "text/html": [
       "<div>\n",
       "<style scoped>\n",
       "    .dataframe tbody tr th:only-of-type {\n",
       "        vertical-align: middle;\n",
       "    }\n",
       "\n",
       "    .dataframe tbody tr th {\n",
       "        vertical-align: top;\n",
       "    }\n",
       "\n",
       "    .dataframe thead th {\n",
       "        text-align: right;\n",
       "    }\n",
       "</style>\n",
       "<table border=\"1\" class=\"dataframe\">\n",
       "  <thead>\n",
       "    <tr style=\"text-align: right;\">\n",
       "      <th></th>\n",
       "      <th>NO OF STUDENTS</th>\n",
       "      <th>GENDER</th>\n",
       "      <th>PERM\\nISSIVE</th>\n",
       "      <th>AUTHOR\\nITARIAN</th>\n",
       "      <th>AUTHOR\\nITATIVE</th>\n",
       "      <th>EMOTIONAL MATURITY SCALE</th>\n",
       "      <th>MENTAL HEALTH PROFILE</th>\n",
       "    </tr>\n",
       "  </thead>\n",
       "  <tbody>\n",
       "    <tr>\n",
       "      <th>0</th>\n",
       "      <td>1</td>\n",
       "      <td>MALE</td>\n",
       "      <td>30</td>\n",
       "      <td>25</td>\n",
       "      <td>40</td>\n",
       "      <td>59</td>\n",
       "      <td>33</td>\n",
       "    </tr>\n",
       "    <tr>\n",
       "      <th>1</th>\n",
       "      <td>2</td>\n",
       "      <td>MALE</td>\n",
       "      <td>29</td>\n",
       "      <td>27</td>\n",
       "      <td>38</td>\n",
       "      <td>78</td>\n",
       "      <td>36</td>\n",
       "    </tr>\n",
       "    <tr>\n",
       "      <th>2</th>\n",
       "      <td>3</td>\n",
       "      <td>MALE</td>\n",
       "      <td>26</td>\n",
       "      <td>40</td>\n",
       "      <td>21</td>\n",
       "      <td>103</td>\n",
       "      <td>14</td>\n",
       "    </tr>\n",
       "    <tr>\n",
       "      <th>3</th>\n",
       "      <td>4</td>\n",
       "      <td>MALE</td>\n",
       "      <td>24</td>\n",
       "      <td>38</td>\n",
       "      <td>29</td>\n",
       "      <td>140</td>\n",
       "      <td>20</td>\n",
       "    </tr>\n",
       "    <tr>\n",
       "      <th>4</th>\n",
       "      <td>5</td>\n",
       "      <td>MALE</td>\n",
       "      <td>27</td>\n",
       "      <td>23</td>\n",
       "      <td>39</td>\n",
       "      <td>72</td>\n",
       "      <td>35</td>\n",
       "    </tr>\n",
       "  </tbody>\n",
       "</table>\n",
       "</div>"
      ],
      "text/plain": [
       "   NO OF STUDENTS GENDER  PERM\\nISSIVE  AUTHOR\\nITARIAN  AUTHOR\\nITATIVE  \\\n",
       "0               1   MALE            30               25               40   \n",
       "1               2   MALE            29               27               38   \n",
       "2               3   MALE            26               40               21   \n",
       "3               4   MALE            24               38               29   \n",
       "4               5   MALE            27               23               39   \n",
       "\n",
       "   EMOTIONAL MATURITY SCALE  MENTAL HEALTH PROFILE  \n",
       "0                        59                     33  \n",
       "1                        78                     36  \n",
       "2                       103                     14  \n",
       "3                       140                     20  \n",
       "4                        72                     35  "
      ]
     },
     "execution_count": 77,
     "metadata": {},
     "output_type": "execute_result"
    }
   ],
   "source": [
    "df = pd.read_csv('arranged data - mental health.csv')\n",
    "df.head()"
   ]
  },
  {
   "cell_type": "code",
   "execution_count": 78,
   "metadata": {},
   "outputs": [
    {
     "data": {
      "text/plain": [
       "Index(['NO OF STUDENTS', 'GENDER', 'PERM\\nISSIVE', 'AUTHOR\\nITARIAN',\n",
       "       'AUTHOR\\nITATIVE', 'EMOTIONAL MATURITY SCALE', 'MENTAL HEALTH PROFILE'],\n",
       "      dtype='object')"
      ]
     },
     "execution_count": 78,
     "metadata": {},
     "output_type": "execute_result"
    }
   ],
   "source": [
    "df.columns"
   ]
  },
  {
   "cell_type": "code",
   "execution_count": 79,
   "metadata": {},
   "outputs": [
    {
     "data": {
      "text/html": [
       "<div>\n",
       "<style scoped>\n",
       "    .dataframe tbody tr th:only-of-type {\n",
       "        vertical-align: middle;\n",
       "    }\n",
       "\n",
       "    .dataframe tbody tr th {\n",
       "        vertical-align: top;\n",
       "    }\n",
       "\n",
       "    .dataframe thead th {\n",
       "        text-align: right;\n",
       "    }\n",
       "</style>\n",
       "<table border=\"1\" class=\"dataframe\">\n",
       "  <thead>\n",
       "    <tr style=\"text-align: right;\">\n",
       "      <th></th>\n",
       "      <th>number of students</th>\n",
       "      <th>Gender</th>\n",
       "      <th>Permissive</th>\n",
       "      <th>Authoritarian</th>\n",
       "      <th>Authoritative</th>\n",
       "      <th>Emotional Maturity Scale</th>\n",
       "      <th>Mental Health</th>\n",
       "    </tr>\n",
       "  </thead>\n",
       "  <tbody>\n",
       "    <tr>\n",
       "      <th>0</th>\n",
       "      <td>1</td>\n",
       "      <td>MALE</td>\n",
       "      <td>30</td>\n",
       "      <td>25</td>\n",
       "      <td>40</td>\n",
       "      <td>59</td>\n",
       "      <td>33</td>\n",
       "    </tr>\n",
       "    <tr>\n",
       "      <th>1</th>\n",
       "      <td>2</td>\n",
       "      <td>MALE</td>\n",
       "      <td>29</td>\n",
       "      <td>27</td>\n",
       "      <td>38</td>\n",
       "      <td>78</td>\n",
       "      <td>36</td>\n",
       "    </tr>\n",
       "    <tr>\n",
       "      <th>2</th>\n",
       "      <td>3</td>\n",
       "      <td>MALE</td>\n",
       "      <td>26</td>\n",
       "      <td>40</td>\n",
       "      <td>21</td>\n",
       "      <td>103</td>\n",
       "      <td>14</td>\n",
       "    </tr>\n",
       "    <tr>\n",
       "      <th>3</th>\n",
       "      <td>4</td>\n",
       "      <td>MALE</td>\n",
       "      <td>24</td>\n",
       "      <td>38</td>\n",
       "      <td>29</td>\n",
       "      <td>140</td>\n",
       "      <td>20</td>\n",
       "    </tr>\n",
       "    <tr>\n",
       "      <th>4</th>\n",
       "      <td>5</td>\n",
       "      <td>MALE</td>\n",
       "      <td>27</td>\n",
       "      <td>23</td>\n",
       "      <td>39</td>\n",
       "      <td>72</td>\n",
       "      <td>35</td>\n",
       "    </tr>\n",
       "  </tbody>\n",
       "</table>\n",
       "</div>"
      ],
      "text/plain": [
       "   number of students Gender  Permissive  Authoritarian  Authoritative  \\\n",
       "0                   1   MALE          30             25             40   \n",
       "1                   2   MALE          29             27             38   \n",
       "2                   3   MALE          26             40             21   \n",
       "3                   4   MALE          24             38             29   \n",
       "4                   5   MALE          27             23             39   \n",
       "\n",
       "   Emotional Maturity Scale  Mental Health  \n",
       "0                        59             33  \n",
       "1                        78             36  \n",
       "2                       103             14  \n",
       "3                       140             20  \n",
       "4                        72             35  "
      ]
     },
     "execution_count": 79,
     "metadata": {},
     "output_type": "execute_result"
    }
   ],
   "source": [
    "df.columns = ['number of students','Gender','Permissive','Authoritarian','Authoritative','Emotional Maturity Scale','Mental Health']\n",
    "df.head()"
   ]
  },
  {
   "cell_type": "code",
   "execution_count": 80,
   "metadata": {},
   "outputs": [],
   "source": [
    "df['Emotional_Maturity']=pd.cut(df['Emotional Maturity Scale'],bins=[50,80,88,106,240],labels=['Extremely Stable','Moderately Stable','Unstable','Extremely Unstable'])"
   ]
  },
  {
   "cell_type": "code",
   "execution_count": 81,
   "metadata": {},
   "outputs": [
    {
     "data": {
      "text/html": [
       "<div>\n",
       "<style scoped>\n",
       "    .dataframe tbody tr th:only-of-type {\n",
       "        vertical-align: middle;\n",
       "    }\n",
       "\n",
       "    .dataframe tbody tr th {\n",
       "        vertical-align: top;\n",
       "    }\n",
       "\n",
       "    .dataframe thead th {\n",
       "        text-align: right;\n",
       "    }\n",
       "</style>\n",
       "<table border=\"1\" class=\"dataframe\">\n",
       "  <thead>\n",
       "    <tr style=\"text-align: right;\">\n",
       "      <th></th>\n",
       "      <th>number of students</th>\n",
       "      <th>Gender</th>\n",
       "      <th>Permissive</th>\n",
       "      <th>Authoritarian</th>\n",
       "      <th>Authoritative</th>\n",
       "      <th>Emotional Maturity Scale</th>\n",
       "      <th>Mental Health</th>\n",
       "      <th>Emotional_Maturity</th>\n",
       "    </tr>\n",
       "  </thead>\n",
       "  <tbody>\n",
       "    <tr>\n",
       "      <th>0</th>\n",
       "      <td>1</td>\n",
       "      <td>MALE</td>\n",
       "      <td>30</td>\n",
       "      <td>25</td>\n",
       "      <td>40</td>\n",
       "      <td>59</td>\n",
       "      <td>33</td>\n",
       "      <td>Extremely Stable</td>\n",
       "    </tr>\n",
       "    <tr>\n",
       "      <th>1</th>\n",
       "      <td>2</td>\n",
       "      <td>MALE</td>\n",
       "      <td>29</td>\n",
       "      <td>27</td>\n",
       "      <td>38</td>\n",
       "      <td>78</td>\n",
       "      <td>36</td>\n",
       "      <td>Extremely Stable</td>\n",
       "    </tr>\n",
       "    <tr>\n",
       "      <th>2</th>\n",
       "      <td>3</td>\n",
       "      <td>MALE</td>\n",
       "      <td>26</td>\n",
       "      <td>40</td>\n",
       "      <td>21</td>\n",
       "      <td>103</td>\n",
       "      <td>14</td>\n",
       "      <td>Unstable</td>\n",
       "    </tr>\n",
       "    <tr>\n",
       "      <th>3</th>\n",
       "      <td>4</td>\n",
       "      <td>MALE</td>\n",
       "      <td>24</td>\n",
       "      <td>38</td>\n",
       "      <td>29</td>\n",
       "      <td>140</td>\n",
       "      <td>20</td>\n",
       "      <td>Extremely Unstable</td>\n",
       "    </tr>\n",
       "    <tr>\n",
       "      <th>4</th>\n",
       "      <td>5</td>\n",
       "      <td>MALE</td>\n",
       "      <td>27</td>\n",
       "      <td>23</td>\n",
       "      <td>39</td>\n",
       "      <td>72</td>\n",
       "      <td>35</td>\n",
       "      <td>Extremely Stable</td>\n",
       "    </tr>\n",
       "  </tbody>\n",
       "</table>\n",
       "</div>"
      ],
      "text/plain": [
       "   number of students Gender  Permissive  Authoritarian  Authoritative  \\\n",
       "0                   1   MALE          30             25             40   \n",
       "1                   2   MALE          29             27             38   \n",
       "2                   3   MALE          26             40             21   \n",
       "3                   4   MALE          24             38             29   \n",
       "4                   5   MALE          27             23             39   \n",
       "\n",
       "   Emotional Maturity Scale  Mental Health  Emotional_Maturity  \n",
       "0                        59             33    Extremely Stable  \n",
       "1                        78             36    Extremely Stable  \n",
       "2                       103             14            Unstable  \n",
       "3                       140             20  Extremely Unstable  \n",
       "4                        72             35    Extremely Stable  "
      ]
     },
     "execution_count": 81,
     "metadata": {},
     "output_type": "execute_result"
    }
   ],
   "source": [
    "df.head()"
   ]
  },
  {
   "cell_type": "code",
   "execution_count": 117,
   "metadata": {},
   "outputs": [
    {
     "name": "stdout",
     "output_type": "stream",
     "text": [
      "27.686666666666667\n",
      "30.886666666666667\n",
      "29.093333333333334\n"
     ]
    }
   ],
   "source": [
    "print(df['Permissive'].mean())\n",
    "print(df['Authoritarian'].mean())\n",
    "print(df['Authoritative'].mean())"
   ]
  },
  {
   "cell_type": "code",
   "execution_count": 266,
   "metadata": {},
   "outputs": [
    {
     "name": "stdout",
     "output_type": "stream",
     "text": [
      "\n",
      "\n"
     ]
    },
    {
     "data": {
      "text/html": [
       "<div>\n",
       "<style scoped>\n",
       "    .dataframe tbody tr th:only-of-type {\n",
       "        vertical-align: middle;\n",
       "    }\n",
       "\n",
       "    .dataframe tbody tr th {\n",
       "        vertical-align: top;\n",
       "    }\n",
       "\n",
       "    .dataframe thead th {\n",
       "        text-align: right;\n",
       "    }\n",
       "</style>\n",
       "<table border=\"1\" class=\"dataframe\">\n",
       "  <thead>\n",
       "    <tr style=\"text-align: right;\">\n",
       "      <th></th>\n",
       "      <th>Variable</th>\n",
       "      <th>N</th>\n",
       "      <th>Mean</th>\n",
       "      <th>SD</th>\n",
       "      <th>SE</th>\n",
       "      <th>95% Conf.</th>\n",
       "      <th>Interval</th>\n",
       "    </tr>\n",
       "  </thead>\n",
       "  <tbody>\n",
       "    <tr>\n",
       "      <th>0</th>\n",
       "      <td>Emotional Maturity Scale</td>\n",
       "      <td>150.0</td>\n",
       "      <td>105.8667</td>\n",
       "      <td>33.3069</td>\n",
       "      <td>2.7195</td>\n",
       "      <td>100.4929</td>\n",
       "      <td>111.2404</td>\n",
       "    </tr>\n",
       "  </tbody>\n",
       "</table>\n",
       "</div>"
      ],
      "text/plain": [
       "                   Variable      N      Mean       SD      SE  95% Conf.  \\\n",
       "0  Emotional Maturity Scale  150.0  105.8667  33.3069  2.7195   100.4929   \n",
       "\n",
       "   Interval  \n",
       "0  111.2404  "
      ]
     },
     "execution_count": 266,
     "metadata": {},
     "output_type": "execute_result"
    }
   ],
   "source": [
    "rp.summary_cont(df['Emotional Maturity Scale'])"
   ]
  },
  {
   "cell_type": "code",
   "execution_count": 76,
   "metadata": {},
   "outputs": [
    {
     "name": "stdout",
     "output_type": "stream",
     "text": [
      "\n",
      "\n"
     ]
    },
    {
     "data": {
      "text/html": [
       "<div>\n",
       "<style scoped>\n",
       "    .dataframe tbody tr th:only-of-type {\n",
       "        vertical-align: middle;\n",
       "    }\n",
       "\n",
       "    .dataframe tbody tr th {\n",
       "        vertical-align: top;\n",
       "    }\n",
       "\n",
       "    .dataframe thead th {\n",
       "        text-align: right;\n",
       "    }\n",
       "</style>\n",
       "<table border=\"1\" class=\"dataframe\">\n",
       "  <thead>\n",
       "    <tr style=\"text-align: right;\">\n",
       "      <th></th>\n",
       "      <th>Variable</th>\n",
       "      <th>N</th>\n",
       "      <th>Mean</th>\n",
       "      <th>SD</th>\n",
       "      <th>SE</th>\n",
       "      <th>95% Conf.</th>\n",
       "      <th>Interval</th>\n",
       "    </tr>\n",
       "  </thead>\n",
       "  <tbody>\n",
       "    <tr>\n",
       "      <th>0</th>\n",
       "      <td>Permissive</td>\n",
       "      <td>150.0</td>\n",
       "      <td>27.6867</td>\n",
       "      <td>4.6777</td>\n",
       "      <td>0.3819</td>\n",
       "      <td>26.932</td>\n",
       "      <td>28.4414</td>\n",
       "    </tr>\n",
       "  </tbody>\n",
       "</table>\n",
       "</div>"
      ],
      "text/plain": [
       "     Variable      N     Mean      SD      SE  95% Conf.  Interval\n",
       "0  Permissive  150.0  27.6867  4.6777  0.3819     26.932   28.4414"
      ]
     },
     "execution_count": 76,
     "metadata": {},
     "output_type": "execute_result"
    }
   ],
   "source": [
    "import researchpy as rp\n",
    "rp.summary_cont(df['Permissive'])"
   ]
  },
  {
   "cell_type": "code",
   "execution_count": 134,
   "metadata": {},
   "outputs": [
    {
     "name": "stdout",
     "output_type": "stream",
     "text": [
      "\n",
      "\n"
     ]
    },
    {
     "data": {
      "text/html": [
       "<div>\n",
       "<style scoped>\n",
       "    .dataframe tbody tr th:only-of-type {\n",
       "        vertical-align: middle;\n",
       "    }\n",
       "\n",
       "    .dataframe tbody tr th {\n",
       "        vertical-align: top;\n",
       "    }\n",
       "\n",
       "    .dataframe thead th {\n",
       "        text-align: right;\n",
       "    }\n",
       "</style>\n",
       "<table border=\"1\" class=\"dataframe\">\n",
       "  <thead>\n",
       "    <tr style=\"text-align: right;\">\n",
       "      <th></th>\n",
       "      <th>N</th>\n",
       "      <th>Mean</th>\n",
       "      <th>SD</th>\n",
       "      <th>SE</th>\n",
       "      <th>95% Conf.</th>\n",
       "      <th>Interval</th>\n",
       "    </tr>\n",
       "    <tr>\n",
       "      <th>Emotional_Maturity</th>\n",
       "      <th></th>\n",
       "      <th></th>\n",
       "      <th></th>\n",
       "      <th></th>\n",
       "      <th></th>\n",
       "      <th></th>\n",
       "    </tr>\n",
       "  </thead>\n",
       "  <tbody>\n",
       "    <tr>\n",
       "      <th>Extremely Stable</th>\n",
       "      <td>37</td>\n",
       "      <td>27.4595</td>\n",
       "      <td>3.3132</td>\n",
       "      <td>0.5447</td>\n",
       "      <td>26.3548</td>\n",
       "      <td>28.5641</td>\n",
       "    </tr>\n",
       "    <tr>\n",
       "      <th>Moderately Stable</th>\n",
       "      <td>30</td>\n",
       "      <td>32.8667</td>\n",
       "      <td>3.6553</td>\n",
       "      <td>0.6674</td>\n",
       "      <td>31.5018</td>\n",
       "      <td>34.2316</td>\n",
       "    </tr>\n",
       "    <tr>\n",
       "      <th>Unstable</th>\n",
       "      <td>26</td>\n",
       "      <td>29.1923</td>\n",
       "      <td>4.8002</td>\n",
       "      <td>0.9414</td>\n",
       "      <td>27.2535</td>\n",
       "      <td>31.1311</td>\n",
       "    </tr>\n",
       "    <tr>\n",
       "      <th>Extremely Unstable</th>\n",
       "      <td>57</td>\n",
       "      <td>24.4211</td>\n",
       "      <td>2.7642</td>\n",
       "      <td>0.3661</td>\n",
       "      <td>23.6876</td>\n",
       "      <td>25.1545</td>\n",
       "    </tr>\n",
       "  </tbody>\n",
       "</table>\n",
       "</div>"
      ],
      "text/plain": [
       "                     N     Mean      SD      SE  95% Conf.  Interval\n",
       "Emotional_Maturity                                                  \n",
       "Extremely Stable    37  27.4595  3.3132  0.5447    26.3548   28.5641\n",
       "Moderately Stable   30  32.8667  3.6553  0.6674    31.5018   34.2316\n",
       "Unstable            26  29.1923  4.8002  0.9414    27.2535   31.1311\n",
       "Extremely Unstable  57  24.4211  2.7642  0.3661    23.6876   25.1545"
      ]
     },
     "execution_count": 134,
     "metadata": {},
     "output_type": "execute_result"
    }
   ],
   "source": [
    "rp.summary_cont(df['Permissive'].groupby(df['Emotional_Maturity']))"
   ]
  },
  {
   "cell_type": "code",
   "execution_count": 135,
   "metadata": {},
   "outputs": [
    {
     "name": "stdout",
     "output_type": "stream",
     "text": [
      "\n",
      "\n"
     ]
    },
    {
     "data": {
      "text/html": [
       "<div>\n",
       "<style scoped>\n",
       "    .dataframe tbody tr th:only-of-type {\n",
       "        vertical-align: middle;\n",
       "    }\n",
       "\n",
       "    .dataframe tbody tr th {\n",
       "        vertical-align: top;\n",
       "    }\n",
       "\n",
       "    .dataframe thead th {\n",
       "        text-align: right;\n",
       "    }\n",
       "</style>\n",
       "<table border=\"1\" class=\"dataframe\">\n",
       "  <thead>\n",
       "    <tr style=\"text-align: right;\">\n",
       "      <th></th>\n",
       "      <th>N</th>\n",
       "      <th>Mean</th>\n",
       "      <th>SD</th>\n",
       "      <th>SE</th>\n",
       "      <th>95% Conf.</th>\n",
       "      <th>Interval</th>\n",
       "    </tr>\n",
       "    <tr>\n",
       "      <th>Emotional_Maturity</th>\n",
       "      <th></th>\n",
       "      <th></th>\n",
       "      <th></th>\n",
       "      <th></th>\n",
       "      <th></th>\n",
       "      <th></th>\n",
       "    </tr>\n",
       "  </thead>\n",
       "  <tbody>\n",
       "    <tr>\n",
       "      <th>Extremely Stable</th>\n",
       "      <td>37</td>\n",
       "      <td>26.2703</td>\n",
       "      <td>6.1312</td>\n",
       "      <td>1.0080</td>\n",
       "      <td>24.2260</td>\n",
       "      <td>28.3145</td>\n",
       "    </tr>\n",
       "    <tr>\n",
       "      <th>Moderately Stable</th>\n",
       "      <td>30</td>\n",
       "      <td>24.5000</td>\n",
       "      <td>2.9096</td>\n",
       "      <td>0.5312</td>\n",
       "      <td>23.4136</td>\n",
       "      <td>25.5864</td>\n",
       "    </tr>\n",
       "    <tr>\n",
       "      <th>Unstable</th>\n",
       "      <td>26</td>\n",
       "      <td>30.7308</td>\n",
       "      <td>6.8618</td>\n",
       "      <td>1.3457</td>\n",
       "      <td>27.9592</td>\n",
       "      <td>33.5023</td>\n",
       "    </tr>\n",
       "    <tr>\n",
       "      <th>Extremely Unstable</th>\n",
       "      <td>57</td>\n",
       "      <td>37.3158</td>\n",
       "      <td>3.2577</td>\n",
       "      <td>0.4315</td>\n",
       "      <td>36.4514</td>\n",
       "      <td>38.1802</td>\n",
       "    </tr>\n",
       "  </tbody>\n",
       "</table>\n",
       "</div>"
      ],
      "text/plain": [
       "                     N     Mean      SD      SE  95% Conf.  Interval\n",
       "Emotional_Maturity                                                  \n",
       "Extremely Stable    37  26.2703  6.1312  1.0080    24.2260   28.3145\n",
       "Moderately Stable   30  24.5000  2.9096  0.5312    23.4136   25.5864\n",
       "Unstable            26  30.7308  6.8618  1.3457    27.9592   33.5023\n",
       "Extremely Unstable  57  37.3158  3.2577  0.4315    36.4514   38.1802"
      ]
     },
     "execution_count": 135,
     "metadata": {},
     "output_type": "execute_result"
    }
   ],
   "source": [
    "rp.summary_cont(df['Authoritarian'].groupby(df['Emotional_Maturity']))"
   ]
  },
  {
   "cell_type": "code",
   "execution_count": 136,
   "metadata": {},
   "outputs": [
    {
     "name": "stdout",
     "output_type": "stream",
     "text": [
      "\n",
      "\n"
     ]
    },
    {
     "data": {
      "text/html": [
       "<div>\n",
       "<style scoped>\n",
       "    .dataframe tbody tr th:only-of-type {\n",
       "        vertical-align: middle;\n",
       "    }\n",
       "\n",
       "    .dataframe tbody tr th {\n",
       "        vertical-align: top;\n",
       "    }\n",
       "\n",
       "    .dataframe thead th {\n",
       "        text-align: right;\n",
       "    }\n",
       "</style>\n",
       "<table border=\"1\" class=\"dataframe\">\n",
       "  <thead>\n",
       "    <tr style=\"text-align: right;\">\n",
       "      <th></th>\n",
       "      <th>N</th>\n",
       "      <th>Mean</th>\n",
       "      <th>SD</th>\n",
       "      <th>SE</th>\n",
       "      <th>95% Conf.</th>\n",
       "      <th>Interval</th>\n",
       "    </tr>\n",
       "    <tr>\n",
       "      <th>Emotional_Maturity</th>\n",
       "      <th></th>\n",
       "      <th></th>\n",
       "      <th></th>\n",
       "      <th></th>\n",
       "      <th></th>\n",
       "      <th></th>\n",
       "    </tr>\n",
       "  </thead>\n",
       "  <tbody>\n",
       "    <tr>\n",
       "      <th>Extremely Stable</th>\n",
       "      <td>37</td>\n",
       "      <td>35.8649</td>\n",
       "      <td>7.3226</td>\n",
       "      <td>1.2038</td>\n",
       "      <td>33.4234</td>\n",
       "      <td>38.3063</td>\n",
       "    </tr>\n",
       "    <tr>\n",
       "      <th>Moderately Stable</th>\n",
       "      <td>30</td>\n",
       "      <td>30.2000</td>\n",
       "      <td>2.8454</td>\n",
       "      <td>0.5195</td>\n",
       "      <td>29.1375</td>\n",
       "      <td>31.2625</td>\n",
       "    </tr>\n",
       "    <tr>\n",
       "      <th>Unstable</th>\n",
       "      <td>26</td>\n",
       "      <td>27.9231</td>\n",
       "      <td>5.0273</td>\n",
       "      <td>0.9859</td>\n",
       "      <td>25.8925</td>\n",
       "      <td>29.9537</td>\n",
       "    </tr>\n",
       "    <tr>\n",
       "      <th>Extremely Unstable</th>\n",
       "      <td>57</td>\n",
       "      <td>24.6491</td>\n",
       "      <td>3.1253</td>\n",
       "      <td>0.4140</td>\n",
       "      <td>23.8199</td>\n",
       "      <td>25.4784</td>\n",
       "    </tr>\n",
       "  </tbody>\n",
       "</table>\n",
       "</div>"
      ],
      "text/plain": [
       "                     N     Mean      SD      SE  95% Conf.  Interval\n",
       "Emotional_Maturity                                                  \n",
       "Extremely Stable    37  35.8649  7.3226  1.2038    33.4234   38.3063\n",
       "Moderately Stable   30  30.2000  2.8454  0.5195    29.1375   31.2625\n",
       "Unstable            26  27.9231  5.0273  0.9859    25.8925   29.9537\n",
       "Extremely Unstable  57  24.6491  3.1253  0.4140    23.8199   25.4784"
      ]
     },
     "execution_count": 136,
     "metadata": {},
     "output_type": "execute_result"
    }
   ],
   "source": [
    "rp.summary_cont(df['Authoritative'].groupby(df['Emotional_Maturity']))"
   ]
  },
  {
   "cell_type": "code",
   "execution_count": 14,
   "metadata": {},
   "outputs": [
    {
     "data": {
      "text/plain": [
       "<matplotlib.axes._subplots.AxesSubplot at 0x186cc826448>"
      ]
     },
     "execution_count": 14,
     "metadata": {},
     "output_type": "execute_result"
    },
    {
     "data": {
      "image/png": "[encoded data removed]",
      "text/plain": [
       "<Figure size 432x288 with 1 Axes>"
      ]
     },
     "metadata": {
      "needs_background": "light"
     },
     "output_type": "display_data"
    }
   ],
   "source": [
    "df.boxplot(column=['Permissive','Authoritarian','Authoritative'],grid=False)"
   ]
  },
  {
   "cell_type": "code",
   "execution_count": 158,
   "metadata": {},
   "outputs": [
    {
     "data": {
      "text/html": [
       "<div>\n",
       "<style scoped>\n",
       "    .dataframe tbody tr th:only-of-type {\n",
       "        vertical-align: middle;\n",
       "    }\n",
       "\n",
       "    .dataframe tbody tr th {\n",
       "        vertical-align: top;\n",
       "    }\n",
       "\n",
       "    .dataframe thead th {\n",
       "        text-align: right;\n",
       "    }\n",
       "</style>\n",
       "<table border=\"1\" class=\"dataframe\">\n",
       "  <thead>\n",
       "    <tr style=\"text-align: right;\">\n",
       "      <th></th>\n",
       "      <th>Emotional Maturity</th>\n",
       "      <th>Parenting Type</th>\n",
       "      <th>Value</th>\n",
       "    </tr>\n",
       "  </thead>\n",
       "  <tbody>\n",
       "    <tr>\n",
       "      <th>0</th>\n",
       "      <td>Extremely Stable</td>\n",
       "      <td>Permissive</td>\n",
       "      <td>30</td>\n",
       "    </tr>\n",
       "    <tr>\n",
       "      <th>1</th>\n",
       "      <td>Extremely Stable</td>\n",
       "      <td>Permissive</td>\n",
       "      <td>29</td>\n",
       "    </tr>\n",
       "    <tr>\n",
       "      <th>2</th>\n",
       "      <td>Unstable</td>\n",
       "      <td>Permissive</td>\n",
       "      <td>26</td>\n",
       "    </tr>\n",
       "    <tr>\n",
       "      <th>3</th>\n",
       "      <td>Extremely Unstable</td>\n",
       "      <td>Permissive</td>\n",
       "      <td>24</td>\n",
       "    </tr>\n",
       "    <tr>\n",
       "      <th>4</th>\n",
       "      <td>Extremely Stable</td>\n",
       "      <td>Permissive</td>\n",
       "      <td>27</td>\n",
       "    </tr>\n",
       "  </tbody>\n",
       "</table>\n",
       "</div>"
      ],
      "text/plain": [
       "   Emotional Maturity Parenting Type  Value\n",
       "0    Extremely Stable     Permissive     30\n",
       "1    Extremely Stable     Permissive     29\n",
       "2            Unstable     Permissive     26\n",
       "3  Extremely Unstable     Permissive     24\n",
       "4    Extremely Stable     Permissive     27"
      ]
     },
     "execution_count": 158,
     "metadata": {},
     "output_type": "execute_result"
    }
   ],
   "source": [
    "df_melt = pd.melt(df, id_vars=['Emotional_Maturity'], value_vars=['Permissive','Authoritarian','Authoritative'])\n",
    "df_melt.columns = ['Emotional Maturity','Parenting Type','Value']\n",
    "df_melt.head()"
   ]
  },
  {
   "cell_type": "code",
   "execution_count": 159,
   "metadata": {},
   "outputs": [
    {
     "data": {
      "text/html": [
       "<div>\n",
       "<style scoped>\n",
       "    .dataframe tbody tr th:only-of-type {\n",
       "        vertical-align: middle;\n",
       "    }\n",
       "\n",
       "    .dataframe tbody tr th {\n",
       "        vertical-align: top;\n",
       "    }\n",
       "\n",
       "    .dataframe thead th {\n",
       "        text-align: right;\n",
       "    }\n",
       "</style>\n",
       "<table border=\"1\" class=\"dataframe\">\n",
       "  <thead>\n",
       "    <tr style=\"text-align: right;\">\n",
       "      <th></th>\n",
       "      <th>Emotional Maturity</th>\n",
       "      <th>emotional_maturity_scale</th>\n",
       "      <th>Parenting Type</th>\n",
       "      <th>Value</th>\n",
       "    </tr>\n",
       "  </thead>\n",
       "  <tbody>\n",
       "    <tr>\n",
       "      <th>0</th>\n",
       "      <td>Extremely Stable</td>\n",
       "      <td>59</td>\n",
       "      <td>Permissive</td>\n",
       "      <td>30</td>\n",
       "    </tr>\n",
       "    <tr>\n",
       "      <th>1</th>\n",
       "      <td>Extremely Stable</td>\n",
       "      <td>78</td>\n",
       "      <td>Permissive</td>\n",
       "      <td>29</td>\n",
       "    </tr>\n",
       "    <tr>\n",
       "      <th>2</th>\n",
       "      <td>Unstable</td>\n",
       "      <td>103</td>\n",
       "      <td>Permissive</td>\n",
       "      <td>26</td>\n",
       "    </tr>\n",
       "    <tr>\n",
       "      <th>3</th>\n",
       "      <td>Extremely Unstable</td>\n",
       "      <td>140</td>\n",
       "      <td>Permissive</td>\n",
       "      <td>24</td>\n",
       "    </tr>\n",
       "    <tr>\n",
       "      <th>4</th>\n",
       "      <td>Extremely Stable</td>\n",
       "      <td>72</td>\n",
       "      <td>Permissive</td>\n",
       "      <td>27</td>\n",
       "    </tr>\n",
       "  </tbody>\n",
       "</table>\n",
       "</div>"
      ],
      "text/plain": [
       "   Emotional Maturity  emotional_maturity_scale Parenting Type  Value\n",
       "0    Extremely Stable                        59     Permissive     30\n",
       "1    Extremely Stable                        78     Permissive     29\n",
       "2            Unstable                       103     Permissive     26\n",
       "3  Extremely Unstable                       140     Permissive     24\n",
       "4    Extremely Stable                        72     Permissive     27"
      ]
     },
     "execution_count": 159,
     "metadata": {},
     "output_type": "execute_result"
    }
   ],
   "source": [
    "df_melt = pd.melt(df, id_vars=['Emotional_Maturity','Emotional Maturity Scale'], value_vars=['Permissive','Authoritarian','Authoritative'])\n",
    "df_melt.columns = ['Emotional Maturity','emotional_maturity_scale','Parenting Type','Value']\n",
    "df_melt.head()"
   ]
  },
  {
   "cell_type": "code",
   "execution_count": 298,
   "metadata": {
    "scrolled": true
   },
   "outputs": [
    {
     "data": {
      "image/png": "[encoded data removed]",
      "text/plain": [
       "<Figure size 576x360 with 1 Axes>"
      ]
     },
     "metadata": {
      "needs_background": "light"
     },
     "output_type": "display_data"
    }
   ],
   "source": [
    "plt.figure(figsize=(8,5))\n",
    "sns.boxplot(x=\"Emotional Maturity\", y=\"Value\", hue=\"Parenting Type\", data=df_melt)\n",
    "plt.legend(bbox_to_anchor=(1.05, 1), loc=2, borderaxespad=0.)\n",
    "plt.tight_layout()\n",
    "plt.savefig('sample.png')"
   ]
  },
  {
   "cell_type": "code",
   "execution_count": 162,
   "metadata": {},
   "outputs": [
    {
     "data": {
      "text/html": [
       "<div>\n",
       "<style scoped>\n",
       "    .dataframe tbody tr th:only-of-type {\n",
       "        vertical-align: middle;\n",
       "    }\n",
       "\n",
       "    .dataframe tbody tr th {\n",
       "        vertical-align: top;\n",
       "    }\n",
       "\n",
       "    .dataframe thead th {\n",
       "        text-align: right;\n",
       "    }\n",
       "</style>\n",
       "<table border=\"1\" class=\"dataframe\">\n",
       "  <thead>\n",
       "    <tr style=\"text-align: right;\">\n",
       "      <th></th>\n",
       "      <th>df</th>\n",
       "      <th>sum_sq</th>\n",
       "      <th>mean_sq</th>\n",
       "      <th>F</th>\n",
       "      <th>PR(&gt;F)</th>\n",
       "    </tr>\n",
       "  </thead>\n",
       "  <tbody>\n",
       "    <tr>\n",
       "      <th>C(Value)</th>\n",
       "      <td>24.0</td>\n",
       "      <td>55664.85678</td>\n",
       "      <td>2319.369033</td>\n",
       "      <td>2.239205</td>\n",
       "      <td>0.000807</td>\n",
       "    </tr>\n",
       "    <tr>\n",
       "      <th>Residual</th>\n",
       "      <td>425.0</td>\n",
       "      <td>440215.14322</td>\n",
       "      <td>1035.800337</td>\n",
       "      <td>NaN</td>\n",
       "      <td>NaN</td>\n",
       "    </tr>\n",
       "  </tbody>\n",
       "</table>\n",
       "</div>"
      ],
      "text/plain": [
       "             df        sum_sq      mean_sq         F    PR(>F)\n",
       "C(Value)   24.0   55664.85678  2319.369033  2.239205  0.000807\n",
       "Residual  425.0  440215.14322  1035.800337       NaN       NaN"
      ]
     },
     "execution_count": 162,
     "metadata": {},
     "output_type": "execute_result"
    }
   ],
   "source": [
    "# load packages\n",
    "import statsmodels.api as sm\n",
    "from statsmodels.formula.api import ols\n",
    "# Ordinary Least Squares (OLS) model\n",
    "# C(Genotype):C(years) represent interaction term\n",
    "model = ols('emotional_maturity_scale ~ C(Value)', data=df_melt).fit()\n",
    "anova_table = sm.stats.anova_lm(model, typ=1)\n",
    "anova_table\n"
   ]
  },
  {
   "cell_type": "code",
   "execution_count": 87,
   "metadata": {},
   "outputs": [
    {
     "name": "stdout",
     "output_type": "stream",
     "text": [
      "\n",
      "\n"
     ]
    },
    {
     "data": {
      "text/html": [
       "<div>\n",
       "<style scoped>\n",
       "    .dataframe tbody tr th:only-of-type {\n",
       "        vertical-align: middle;\n",
       "    }\n",
       "\n",
       "    .dataframe tbody tr th {\n",
       "        vertical-align: top;\n",
       "    }\n",
       "\n",
       "    .dataframe thead th {\n",
       "        text-align: right;\n",
       "    }\n",
       "</style>\n",
       "<table border=\"1\" class=\"dataframe\">\n",
       "  <thead>\n",
       "    <tr style=\"text-align: right;\">\n",
       "      <th></th>\n",
       "      <th>N</th>\n",
       "      <th>Mean</th>\n",
       "      <th>SD</th>\n",
       "      <th>SE</th>\n",
       "      <th>95% Conf.</th>\n",
       "      <th>Interval</th>\n",
       "    </tr>\n",
       "    <tr>\n",
       "      <th>Parenting_Type</th>\n",
       "      <th></th>\n",
       "      <th></th>\n",
       "      <th></th>\n",
       "      <th></th>\n",
       "      <th></th>\n",
       "      <th></th>\n",
       "    </tr>\n",
       "  </thead>\n",
       "  <tbody>\n",
       "    <tr>\n",
       "      <th>Authoritarian</th>\n",
       "      <td>150</td>\n",
       "      <td>30.8867</td>\n",
       "      <td>7.2069</td>\n",
       "      <td>0.5884</td>\n",
       "      <td>29.7239</td>\n",
       "      <td>32.0494</td>\n",
       "    </tr>\n",
       "    <tr>\n",
       "      <th>Authoritative</th>\n",
       "      <td>150</td>\n",
       "      <td>29.0933</td>\n",
       "      <td>6.4707</td>\n",
       "      <td>0.5283</td>\n",
       "      <td>28.0493</td>\n",
       "      <td>30.1373</td>\n",
       "    </tr>\n",
       "    <tr>\n",
       "      <th>Permissive</th>\n",
       "      <td>150</td>\n",
       "      <td>27.6867</td>\n",
       "      <td>4.6777</td>\n",
       "      <td>0.3819</td>\n",
       "      <td>26.9320</td>\n",
       "      <td>28.4414</td>\n",
       "    </tr>\n",
       "  </tbody>\n",
       "</table>\n",
       "</div>"
      ],
      "text/plain": [
       "                  N     Mean      SD      SE  95% Conf.  Interval\n",
       "Parenting_Type                                                   \n",
       "Authoritarian   150  30.8867  7.2069  0.5884    29.7239   32.0494\n",
       "Authoritative   150  29.0933  6.4707  0.5283    28.0493   30.1373\n",
       "Permissive      150  27.6867  4.6777  0.3819    26.9320   28.4414"
      ]
     },
     "execution_count": 87,
     "metadata": {},
     "output_type": "execute_result"
    }
   ],
   "source": [
    "rp.summary_cont(df_melt['Value'].groupby(df_melt['Parenting_Type']))"
   ]
  },
  {
   "cell_type": "markdown",
   "metadata": {},
   "source": [
    "# Interpretation:\n",
    "            The P-value obtained from ANOVA analysis for Emotional Maturity, Parenting Type, and interaction of Both are statistically significant (P<0.05).  So We conclude that Parenting Type significantly affects the Emotional Maturity"
   ]
  },
  {
   "cell_type": "markdown",
   "metadata": {},
   "source": [
    "# Mental Health"
   ]
  },
  {
   "cell_type": "code",
   "execution_count": 121,
   "metadata": {},
   "outputs": [
    {
     "data": {
      "text/html": [
       "<div>\n",
       "<style scoped>\n",
       "    .dataframe tbody tr th:only-of-type {\n",
       "        vertical-align: middle;\n",
       "    }\n",
       "\n",
       "    .dataframe tbody tr th {\n",
       "        vertical-align: top;\n",
       "    }\n",
       "\n",
       "    .dataframe thead th {\n",
       "        text-align: right;\n",
       "    }\n",
       "</style>\n",
       "<table border=\"1\" class=\"dataframe\">\n",
       "  <thead>\n",
       "    <tr style=\"text-align: right;\">\n",
       "      <th></th>\n",
       "      <th>Mental_Health</th>\n",
       "      <th>Parenting_Type</th>\n",
       "      <th>Value</th>\n",
       "    </tr>\n",
       "  </thead>\n",
       "  <tbody>\n",
       "    <tr>\n",
       "      <th>0</th>\n",
       "      <td>33</td>\n",
       "      <td>Permissive</td>\n",
       "      <td>30</td>\n",
       "    </tr>\n",
       "    <tr>\n",
       "      <th>1</th>\n",
       "      <td>36</td>\n",
       "      <td>Permissive</td>\n",
       "      <td>29</td>\n",
       "    </tr>\n",
       "    <tr>\n",
       "      <th>2</th>\n",
       "      <td>14</td>\n",
       "      <td>Permissive</td>\n",
       "      <td>26</td>\n",
       "    </tr>\n",
       "    <tr>\n",
       "      <th>3</th>\n",
       "      <td>20</td>\n",
       "      <td>Permissive</td>\n",
       "      <td>24</td>\n",
       "    </tr>\n",
       "    <tr>\n",
       "      <th>4</th>\n",
       "      <td>35</td>\n",
       "      <td>Permissive</td>\n",
       "      <td>27</td>\n",
       "    </tr>\n",
       "  </tbody>\n",
       "</table>\n",
       "</div>"
      ],
      "text/plain": [
       "   Mental_Health Parenting_Type  Value\n",
       "0             33     Permissive     30\n",
       "1             36     Permissive     29\n",
       "2             14     Permissive     26\n",
       "3             20     Permissive     24\n",
       "4             35     Permissive     27"
      ]
     },
     "execution_count": 121,
     "metadata": {},
     "output_type": "execute_result"
    }
   ],
   "source": [
    "df_mental = pd.melt(df, id_vars=['Mental Health'], value_vars=['Permissive','Authoritarian','Authoritative'])\n",
    "df_mental.columns = ['Mental_Health','Parenting_Type','Value']\n",
    "df_mental.head()"
   ]
  },
  {
   "cell_type": "code",
   "execution_count": 290,
   "metadata": {},
   "outputs": [
    {
     "data": {
      "text/plain": [
       "<matplotlib.legend.Legend at 0x186d8718908>"
      ]
     },
     "execution_count": 290,
     "metadata": {},
     "output_type": "execute_result"
    },
    {
     "data": {
      "image/png": "[encoded data removed]",
      "text/plain": [
       "<Figure size 576x360 with 1 Axes>"
      ]
     },
     "metadata": {
      "needs_background": "light"
     },
     "output_type": "display_data"
    }
   ],
   "source": [
    "plt.figure(figsize=(8,5))\n",
    "sns.boxplot(x=\"Parenting_Type\", y=\"Mental_Health\",hue = 'Value', data=df_mental)\n",
    "plt.legend(bbox_to_anchor=(1.05, 1), loc=2, borderaxespad=0.)"
   ]
  },
  {
   "cell_type": "code",
   "execution_count": 100,
   "metadata": {},
   "outputs": [
    {
     "data": {
      "text/html": [
       "<div>\n",
       "<style scoped>\n",
       "    .dataframe tbody tr th:only-of-type {\n",
       "        vertical-align: middle;\n",
       "    }\n",
       "\n",
       "    .dataframe tbody tr th {\n",
       "        vertical-align: top;\n",
       "    }\n",
       "\n",
       "    .dataframe thead th {\n",
       "        text-align: right;\n",
       "    }\n",
       "</style>\n",
       "<table border=\"1\" class=\"dataframe\">\n",
       "  <thead>\n",
       "    <tr style=\"text-align: right;\">\n",
       "      <th></th>\n",
       "      <th>df</th>\n",
       "      <th>sum_sq</th>\n",
       "      <th>mean_sq</th>\n",
       "      <th>F</th>\n",
       "      <th>PR(&gt;F)</th>\n",
       "    </tr>\n",
       "  </thead>\n",
       "  <tbody>\n",
       "    <tr>\n",
       "      <th>C(Value)</th>\n",
       "      <td>24.0</td>\n",
       "      <td>4166.168311</td>\n",
       "      <td>173.590346</td>\n",
       "      <td>2.342705</td>\n",
       "      <td>0.000407</td>\n",
       "    </tr>\n",
       "    <tr>\n",
       "      <th>Residual</th>\n",
       "      <td>425.0</td>\n",
       "      <td>31491.751689</td>\n",
       "      <td>74.098239</td>\n",
       "      <td>NaN</td>\n",
       "      <td>NaN</td>\n",
       "    </tr>\n",
       "  </tbody>\n",
       "</table>\n",
       "</div>"
      ],
      "text/plain": [
       "             df        sum_sq     mean_sq         F    PR(>F)\n",
       "C(Value)   24.0   4166.168311  173.590346  2.342705  0.000407\n",
       "Residual  425.0  31491.751689   74.098239       NaN       NaN"
      ]
     },
     "execution_count": 100,
     "metadata": {},
     "output_type": "execute_result"
    }
   ],
   "source": [
    "model = ols('Mental_Health ~ C(Value)', data=df_mental).fit()\n",
    "anova_table = sm.stats.anova_lm(model, typ=1)\n",
    "anova_table\n"
   ]
  },
  {
   "cell_type": "code",
   "execution_count": 265,
   "metadata": {},
   "outputs": [
    {
     "name": "stdout",
     "output_type": "stream",
     "text": [
      "\n",
      "\n"
     ]
    },
    {
     "data": {
      "text/html": [
       "<div>\n",
       "<style scoped>\n",
       "    .dataframe tbody tr th:only-of-type {\n",
       "        vertical-align: middle;\n",
       "    }\n",
       "\n",
       "    .dataframe tbody tr th {\n",
       "        vertical-align: top;\n",
       "    }\n",
       "\n",
       "    .dataframe thead th {\n",
       "        text-align: right;\n",
       "    }\n",
       "</style>\n",
       "<table border=\"1\" class=\"dataframe\">\n",
       "  <thead>\n",
       "    <tr style=\"text-align: right;\">\n",
       "      <th></th>\n",
       "      <th>Variable</th>\n",
       "      <th>N</th>\n",
       "      <th>Mean</th>\n",
       "      <th>SD</th>\n",
       "      <th>SE</th>\n",
       "      <th>95% Conf.</th>\n",
       "      <th>Interval</th>\n",
       "    </tr>\n",
       "  </thead>\n",
       "  <tbody>\n",
       "    <tr>\n",
       "      <th>0</th>\n",
       "      <td>Mental Health</td>\n",
       "      <td>150.0</td>\n",
       "      <td>25.6533</td>\n",
       "      <td>8.9315</td>\n",
       "      <td>0.7293</td>\n",
       "      <td>24.2123</td>\n",
       "      <td>27.0943</td>\n",
       "    </tr>\n",
       "  </tbody>\n",
       "</table>\n",
       "</div>"
      ],
      "text/plain": [
       "        Variable      N     Mean      SD      SE  95% Conf.  Interval\n",
       "0  Mental Health  150.0  25.6533  8.9315  0.7293    24.2123   27.0943"
      ]
     },
     "execution_count": 265,
     "metadata": {},
     "output_type": "execute_result"
    }
   ],
   "source": [
    "rp.summary_cont(df['Mental Health'])"
   ]
  },
  {
   "cell_type": "code",
   "execution_count": 146,
   "metadata": {},
   "outputs": [
    {
     "name": "stdout",
     "output_type": "stream",
     "text": [
      "\n",
      "\n"
     ]
    },
    {
     "data": {
      "text/html": [
       "<div>\n",
       "<style scoped>\n",
       "    .dataframe tbody tr th:only-of-type {\n",
       "        vertical-align: middle;\n",
       "    }\n",
       "\n",
       "    .dataframe tbody tr th {\n",
       "        vertical-align: top;\n",
       "    }\n",
       "\n",
       "    .dataframe thead th {\n",
       "        text-align: right;\n",
       "    }\n",
       "</style>\n",
       "<table border=\"1\" class=\"dataframe\">\n",
       "  <thead>\n",
       "    <tr style=\"text-align: right;\">\n",
       "      <th></th>\n",
       "      <th>N</th>\n",
       "      <th>Mean</th>\n",
       "      <th>SD</th>\n",
       "      <th>SE</th>\n",
       "      <th>95% Conf.</th>\n",
       "      <th>Interval</th>\n",
       "    </tr>\n",
       "    <tr>\n",
       "      <th>Parenting_Type</th>\n",
       "      <th></th>\n",
       "      <th></th>\n",
       "      <th></th>\n",
       "      <th></th>\n",
       "      <th></th>\n",
       "      <th></th>\n",
       "    </tr>\n",
       "  </thead>\n",
       "  <tbody>\n",
       "    <tr>\n",
       "      <th>Authoritarian</th>\n",
       "      <td>150</td>\n",
       "      <td>25.6533</td>\n",
       "      <td>8.9315</td>\n",
       "      <td>0.7293</td>\n",
       "      <td>24.2123</td>\n",
       "      <td>27.0943</td>\n",
       "    </tr>\n",
       "    <tr>\n",
       "      <th>Authoritative</th>\n",
       "      <td>150</td>\n",
       "      <td>25.6533</td>\n",
       "      <td>8.9315</td>\n",
       "      <td>0.7293</td>\n",
       "      <td>24.2123</td>\n",
       "      <td>27.0943</td>\n",
       "    </tr>\n",
       "    <tr>\n",
       "      <th>Permissive</th>\n",
       "      <td>150</td>\n",
       "      <td>25.6533</td>\n",
       "      <td>8.9315</td>\n",
       "      <td>0.7293</td>\n",
       "      <td>24.2123</td>\n",
       "      <td>27.0943</td>\n",
       "    </tr>\n",
       "  </tbody>\n",
       "</table>\n",
       "</div>"
      ],
      "text/plain": [
       "                  N     Mean      SD      SE  95% Conf.  Interval\n",
       "Parenting_Type                                                   \n",
       "Authoritarian   150  25.6533  8.9315  0.7293    24.2123   27.0943\n",
       "Authoritative   150  25.6533  8.9315  0.7293    24.2123   27.0943\n",
       "Permissive      150  25.6533  8.9315  0.7293    24.2123   27.0943"
      ]
     },
     "execution_count": 146,
     "metadata": {},
     "output_type": "execute_result"
    }
   ],
   "source": [
    "rp.summary_cont(df_mental['Mental_Health'].groupby(df_mental['Parenting_Type']))"
   ]
  },
  {
   "cell_type": "markdown",
   "metadata": {},
   "source": [
    "# Correlation"
   ]
  },
  {
   "cell_type": "code",
   "execution_count": 167,
   "metadata": {},
   "outputs": [
    {
     "data": {
      "text/html": [
       "<div>\n",
       "<style scoped>\n",
       "    .dataframe tbody tr th:only-of-type {\n",
       "        vertical-align: middle;\n",
       "    }\n",
       "\n",
       "    .dataframe tbody tr th {\n",
       "        vertical-align: top;\n",
       "    }\n",
       "\n",
       "    .dataframe thead th {\n",
       "        text-align: right;\n",
       "    }\n",
       "</style>\n",
       "<table border=\"1\" class=\"dataframe\">\n",
       "  <thead>\n",
       "    <tr style=\"text-align: right;\">\n",
       "      <th></th>\n",
       "      <th>number of students</th>\n",
       "      <th>Permissive</th>\n",
       "      <th>Authoritarian</th>\n",
       "      <th>Authoritative</th>\n",
       "      <th>Emotional Maturity Scale</th>\n",
       "      <th>Mental Health</th>\n",
       "    </tr>\n",
       "  </thead>\n",
       "  <tbody>\n",
       "    <tr>\n",
       "      <th>number of students</th>\n",
       "      <td>1.000000</td>\n",
       "      <td>-0.022011</td>\n",
       "      <td>0.068473</td>\n",
       "      <td>-0.138299</td>\n",
       "      <td>0.046914</td>\n",
       "      <td>-0.021326</td>\n",
       "    </tr>\n",
       "    <tr>\n",
       "      <th>Permissive</th>\n",
       "      <td>-0.022011</td>\n",
       "      <td>1.000000</td>\n",
       "      <td>-0.594519</td>\n",
       "      <td>0.206961</td>\n",
       "      <td>-0.467095</td>\n",
       "      <td>0.435289</td>\n",
       "    </tr>\n",
       "    <tr>\n",
       "      <th>Authoritarian</th>\n",
       "      <td>0.068473</td>\n",
       "      <td>-0.594519</td>\n",
       "      <td>1.000000</td>\n",
       "      <td>-0.701505</td>\n",
       "      <td>0.700348</td>\n",
       "      <td>-0.707218</td>\n",
       "    </tr>\n",
       "    <tr>\n",
       "      <th>Authoritative</th>\n",
       "      <td>-0.138299</td>\n",
       "      <td>0.206961</td>\n",
       "      <td>-0.701505</td>\n",
       "      <td>1.000000</td>\n",
       "      <td>-0.587501</td>\n",
       "      <td>0.651924</td>\n",
       "    </tr>\n",
       "    <tr>\n",
       "      <th>Emotional Maturity Scale</th>\n",
       "      <td>0.046914</td>\n",
       "      <td>-0.467095</td>\n",
       "      <td>0.700348</td>\n",
       "      <td>-0.587501</td>\n",
       "      <td>1.000000</td>\n",
       "      <td>-0.784416</td>\n",
       "    </tr>\n",
       "    <tr>\n",
       "      <th>Mental Health</th>\n",
       "      <td>-0.021326</td>\n",
       "      <td>0.435289</td>\n",
       "      <td>-0.707218</td>\n",
       "      <td>0.651924</td>\n",
       "      <td>-0.784416</td>\n",
       "      <td>1.000000</td>\n",
       "    </tr>\n",
       "  </tbody>\n",
       "</table>\n",
       "</div>"
      ],
      "text/plain": [
       "                          number of students  Permissive  Authoritarian  \\\n",
       "number of students                  1.000000   -0.022011       0.068473   \n",
       "Permissive                         -0.022011    1.000000      -0.594519   \n",
       "Authoritarian                       0.068473   -0.594519       1.000000   \n",
       "Authoritative                      -0.138299    0.206961      -0.701505   \n",
       "Emotional Maturity Scale            0.046914   -0.467095       0.700348   \n",
       "Mental Health                      -0.021326    0.435289      -0.707218   \n",
       "\n",
       "                          Authoritative  Emotional Maturity Scale  \\\n",
       "number of students            -0.138299                  0.046914   \n",
       "Permissive                     0.206961                 -0.467095   \n",
       "Authoritarian                 -0.701505                  0.700348   \n",
       "Authoritative                  1.000000                 -0.587501   \n",
       "Emotional Maturity Scale      -0.587501                  1.000000   \n",
       "Mental Health                  0.651924                 -0.784416   \n",
       "\n",
       "                          Mental Health  \n",
       "number of students            -0.021326  \n",
       "Permissive                     0.435289  \n",
       "Authoritarian                 -0.707218  \n",
       "Authoritative                  0.651924  \n",
       "Emotional Maturity Scale      -0.784416  \n",
       "Mental Health                  1.000000  "
      ]
     },
     "execution_count": 167,
     "metadata": {},
     "output_type": "execute_result"
    }
   ],
   "source": [
    "df.corr()"
   ]
  },
  {
   "cell_type": "code",
   "execution_count": 244,
   "metadata": {},
   "outputs": [],
   "source": [
    "df1 = pd.DataFrame(df['Emotional Maturity Scale'],df['Mental Health']).reset_index()"
   ]
  },
  {
   "cell_type": "code",
   "execution_count": 246,
   "metadata": {},
   "outputs": [
    {
     "data": {
      "text/html": [
       "<div>\n",
       "<style scoped>\n",
       "    .dataframe tbody tr th:only-of-type {\n",
       "        vertical-align: middle;\n",
       "    }\n",
       "\n",
       "    .dataframe tbody tr th {\n",
       "        vertical-align: top;\n",
       "    }\n",
       "\n",
       "    .dataframe thead th {\n",
       "        text-align: right;\n",
       "    }\n",
       "</style>\n",
       "<table border=\"1\" class=\"dataframe\">\n",
       "  <thead>\n",
       "    <tr style=\"text-align: right;\">\n",
       "      <th></th>\n",
       "      <th>mental_health</th>\n",
       "      <th>emotional_maturity_scale</th>\n",
       "    </tr>\n",
       "  </thead>\n",
       "  <tbody>\n",
       "    <tr>\n",
       "      <th>0</th>\n",
       "      <td>33</td>\n",
       "      <td>125</td>\n",
       "    </tr>\n",
       "    <tr>\n",
       "      <th>1</th>\n",
       "      <td>36</td>\n",
       "      <td>78</td>\n",
       "    </tr>\n",
       "    <tr>\n",
       "      <th>2</th>\n",
       "      <td>14</td>\n",
       "      <td>76</td>\n",
       "    </tr>\n",
       "    <tr>\n",
       "      <th>3</th>\n",
       "      <td>20</td>\n",
       "      <td>85</td>\n",
       "    </tr>\n",
       "    <tr>\n",
       "      <th>4</th>\n",
       "      <td>35</td>\n",
       "      <td>146</td>\n",
       "    </tr>\n",
       "  </tbody>\n",
       "</table>\n",
       "</div>"
      ],
      "text/plain": [
       "   mental_health  emotional_maturity_scale\n",
       "0             33                       125\n",
       "1             36                        78\n",
       "2             14                        76\n",
       "3             20                        85\n",
       "4             35                       146"
      ]
     },
     "execution_count": 246,
     "metadata": {},
     "output_type": "execute_result"
    }
   ],
   "source": [
    "df1.columns = ['mental_health','emotional_maturity_scale']\n",
    "df1.head()"
   ]
  },
  {
   "cell_type": "code",
   "execution_count": 247,
   "metadata": {},
   "outputs": [
    {
     "data": {
      "text/html": [
       "<div>\n",
       "<style scoped>\n",
       "    .dataframe tbody tr th:only-of-type {\n",
       "        vertical-align: middle;\n",
       "    }\n",
       "\n",
       "    .dataframe tbody tr th {\n",
       "        vertical-align: top;\n",
       "    }\n",
       "\n",
       "    .dataframe thead th {\n",
       "        text-align: right;\n",
       "    }\n",
       "</style>\n",
       "<table border=\"1\" class=\"dataframe\">\n",
       "  <thead>\n",
       "    <tr style=\"text-align: right;\">\n",
       "      <th></th>\n",
       "      <th>mental_health</th>\n",
       "      <th>emotional_maturity_scale</th>\n",
       "    </tr>\n",
       "  </thead>\n",
       "  <tbody>\n",
       "    <tr>\n",
       "      <th>mental_health</th>\n",
       "      <td>1.00000</td>\n",
       "      <td>-0.09853</td>\n",
       "    </tr>\n",
       "    <tr>\n",
       "      <th>emotional_maturity_scale</th>\n",
       "      <td>-0.09853</td>\n",
       "      <td>1.00000</td>\n",
       "    </tr>\n",
       "  </tbody>\n",
       "</table>\n",
       "</div>"
      ],
      "text/plain": [
       "                          mental_health  emotional_maturity_scale\n",
       "mental_health                   1.00000                  -0.09853\n",
       "emotional_maturity_scale       -0.09853                   1.00000"
      ]
     },
     "execution_count": 247,
     "metadata": {},
     "output_type": "execute_result"
    }
   ],
   "source": [
    "df1.corr()"
   ]
  },
  {
   "cell_type": "code",
   "execution_count": 185,
   "metadata": {},
   "outputs": [
    {
     "data": {
      "text/plain": [
       "<seaborn.axisgrid.PairGrid at 0x186d6706588>"
      ]
     },
     "execution_count": 185,
     "metadata": {},
     "output_type": "execute_result"
    },
    {
     "data": {
      "image/png": "[encoded data removed]",
      "text/plain": [
       "<Figure size 360x360 with 6 Axes>"
      ]
     },
     "metadata": {
      "needs_background": "light"
     },
     "output_type": "display_data"
    }
   ],
   "source": [
    "sns.pairplot(df1)"
   ]
  },
  {
   "cell_type": "code",
   "execution_count": 186,
   "metadata": {},
   "outputs": [
    {
     "data": {
      "text/plain": [
       "<matplotlib.axes._subplots.AxesSubplot at 0x186d6d4de08>"
      ]
     },
     "execution_count": 186,
     "metadata": {},
     "output_type": "execute_result"
    },
    {
     "data": {
      "image/png": "[encoded data removed]",
      "text/plain": [
       "<Figure size 432x288 with 1 Axes>"
      ]
     },
     "metadata": {
      "needs_background": "light"
     },
     "output_type": "display_data"
    }
   ],
   "source": [
    "df.boxplot(column=['Mental Health'],grid=False)"
   ]
  },
  {
   "cell_type": "code",
   "execution_count": 187,
   "metadata": {},
   "outputs": [
    {
     "data": {
      "text/html": [
       "<div>\n",
       "<style scoped>\n",
       "    .dataframe tbody tr th:only-of-type {\n",
       "        vertical-align: middle;\n",
       "    }\n",
       "\n",
       "    .dataframe tbody tr th {\n",
       "        vertical-align: top;\n",
       "    }\n",
       "\n",
       "    .dataframe thead th {\n",
       "        text-align: right;\n",
       "    }\n",
       "</style>\n",
       "<table border=\"1\" class=\"dataframe\">\n",
       "  <thead>\n",
       "    <tr style=\"text-align: right;\">\n",
       "      <th></th>\n",
       "      <th>Mental Health</th>\n",
       "      <th>Emotional Maturity Scale</th>\n",
       "    </tr>\n",
       "  </thead>\n",
       "  <tbody>\n",
       "    <tr>\n",
       "      <th>0</th>\n",
       "      <td>33</td>\n",
       "      <td>125</td>\n",
       "    </tr>\n",
       "    <tr>\n",
       "      <th>1</th>\n",
       "      <td>36</td>\n",
       "      <td>78</td>\n",
       "    </tr>\n",
       "    <tr>\n",
       "      <th>2</th>\n",
       "      <td>14</td>\n",
       "      <td>76</td>\n",
       "    </tr>\n",
       "    <tr>\n",
       "      <th>3</th>\n",
       "      <td>20</td>\n",
       "      <td>85</td>\n",
       "    </tr>\n",
       "    <tr>\n",
       "      <th>4</th>\n",
       "      <td>35</td>\n",
       "      <td>146</td>\n",
       "    </tr>\n",
       "  </tbody>\n",
       "</table>\n",
       "</div>"
      ],
      "text/plain": [
       "   Mental Health  Emotional Maturity Scale\n",
       "0             33                       125\n",
       "1             36                        78\n",
       "2             14                        76\n",
       "3             20                        85\n",
       "4             35                       146"
      ]
     },
     "execution_count": 187,
     "metadata": {},
     "output_type": "execute_result"
    }
   ],
   "source": [
    "df1.head()"
   ]
  },
  {
   "cell_type": "code",
   "execution_count": 188,
   "metadata": {},
   "outputs": [
    {
     "name": "stdout",
     "output_type": "stream",
     "text": [
      "\n",
      "\n"
     ]
    },
    {
     "data": {
      "text/html": [
       "<div>\n",
       "<style scoped>\n",
       "    .dataframe tbody tr th:only-of-type {\n",
       "        vertical-align: middle;\n",
       "    }\n",
       "\n",
       "    .dataframe tbody tr th {\n",
       "        vertical-align: top;\n",
       "    }\n",
       "\n",
       "    .dataframe thead th {\n",
       "        text-align: right;\n",
       "    }\n",
       "</style>\n",
       "<table border=\"1\" class=\"dataframe\">\n",
       "  <thead>\n",
       "    <tr style=\"text-align: right;\">\n",
       "      <th></th>\n",
       "      <th>Variable</th>\n",
       "      <th>N</th>\n",
       "      <th>Mean</th>\n",
       "      <th>SD</th>\n",
       "      <th>SE</th>\n",
       "      <th>95% Conf.</th>\n",
       "      <th>Interval</th>\n",
       "    </tr>\n",
       "  </thead>\n",
       "  <tbody>\n",
       "    <tr>\n",
       "      <th>0</th>\n",
       "      <td>Mental Health</td>\n",
       "      <td>150.0</td>\n",
       "      <td>25.6533</td>\n",
       "      <td>8.9315</td>\n",
       "      <td>0.7293</td>\n",
       "      <td>24.2123</td>\n",
       "      <td>27.0943</td>\n",
       "    </tr>\n",
       "  </tbody>\n",
       "</table>\n",
       "</div>"
      ],
      "text/plain": [
       "        Variable      N     Mean      SD      SE  95% Conf.  Interval\n",
       "0  Mental Health  150.0  25.6533  8.9315  0.7293    24.2123   27.0943"
      ]
     },
     "execution_count": 188,
     "metadata": {},
     "output_type": "execute_result"
    }
   ],
   "source": [
    "rp.summary_cont(df1['Mental Health'])"
   ]
  },
  {
   "cell_type": "code",
   "execution_count": 270,
   "metadata": {},
   "outputs": [
    {
     "name": "stdout",
     "output_type": "stream",
     "text": [
      "\n",
      "\n"
     ]
    },
    {
     "data": {
      "text/html": [
       "<div>\n",
       "<style scoped>\n",
       "    .dataframe tbody tr th:only-of-type {\n",
       "        vertical-align: middle;\n",
       "    }\n",
       "\n",
       "    .dataframe tbody tr th {\n",
       "        vertical-align: top;\n",
       "    }\n",
       "\n",
       "    .dataframe thead th {\n",
       "        text-align: right;\n",
       "    }\n",
       "</style>\n",
       "<table border=\"1\" class=\"dataframe\">\n",
       "  <thead>\n",
       "    <tr style=\"text-align: right;\">\n",
       "      <th></th>\n",
       "      <th>Variable</th>\n",
       "      <th>N</th>\n",
       "      <th>Mean</th>\n",
       "      <th>SD</th>\n",
       "      <th>SE</th>\n",
       "      <th>95% Conf.</th>\n",
       "      <th>Interval</th>\n",
       "    </tr>\n",
       "  </thead>\n",
       "  <tbody>\n",
       "    <tr>\n",
       "      <th>0</th>\n",
       "      <td>Mental Health</td>\n",
       "      <td>150.0</td>\n",
       "      <td>25.6533</td>\n",
       "      <td>8.9315</td>\n",
       "      <td>0.7293</td>\n",
       "      <td>24.2123</td>\n",
       "      <td>27.0943</td>\n",
       "    </tr>\n",
       "  </tbody>\n",
       "</table>\n",
       "</div>"
      ],
      "text/plain": [
       "        Variable      N     Mean      SD      SE  95% Conf.  Interval\n",
       "0  Mental Health  150.0  25.6533  8.9315  0.7293    24.2123   27.0943"
      ]
     },
     "execution_count": 270,
     "metadata": {},
     "output_type": "execute_result"
    }
   ],
   "source": [
    "rp.summary_cont(df['Mental Health'])"
   ]
  },
  {
   "cell_type": "code",
   "execution_count": 189,
   "metadata": {},
   "outputs": [
    {
     "name": "stdout",
     "output_type": "stream",
     "text": [
      "\n",
      "\n"
     ]
    },
    {
     "data": {
      "text/html": [
       "<div>\n",
       "<style scoped>\n",
       "    .dataframe tbody tr th:only-of-type {\n",
       "        vertical-align: middle;\n",
       "    }\n",
       "\n",
       "    .dataframe tbody tr th {\n",
       "        vertical-align: top;\n",
       "    }\n",
       "\n",
       "    .dataframe thead th {\n",
       "        text-align: right;\n",
       "    }\n",
       "</style>\n",
       "<table border=\"1\" class=\"dataframe\">\n",
       "  <thead>\n",
       "    <tr style=\"text-align: right;\">\n",
       "      <th></th>\n",
       "      <th>Variable</th>\n",
       "      <th>N</th>\n",
       "      <th>Mean</th>\n",
       "      <th>SD</th>\n",
       "      <th>SE</th>\n",
       "      <th>95% Conf.</th>\n",
       "      <th>Interval</th>\n",
       "    </tr>\n",
       "  </thead>\n",
       "  <tbody>\n",
       "    <tr>\n",
       "      <th>0</th>\n",
       "      <td>Emotional Maturity Scale</td>\n",
       "      <td>150.0</td>\n",
       "      <td>109.8333</td>\n",
       "      <td>36.1086</td>\n",
       "      <td>2.9483</td>\n",
       "      <td>104.0075</td>\n",
       "      <td>115.6591</td>\n",
       "    </tr>\n",
       "  </tbody>\n",
       "</table>\n",
       "</div>"
      ],
      "text/plain": [
       "                   Variable      N      Mean       SD      SE  95% Conf.  \\\n",
       "0  Emotional Maturity Scale  150.0  109.8333  36.1086  2.9483   104.0075   \n",
       "\n",
       "   Interval  \n",
       "0  115.6591  "
      ]
     },
     "execution_count": 189,
     "metadata": {},
     "output_type": "execute_result"
    }
   ],
   "source": [
    "rp.summary_cont(df1['Emotional Maturity Scale'])"
   ]
  },
  {
   "cell_type": "code",
   "execution_count": null,
   "metadata": {},
   "outputs": [],
   "source": []
  },
  {
   "cell_type": "code",
   "execution_count": 207,
   "metadata": {},
   "outputs": [
    {
     "data": {
      "text/html": [
       "<div>\n",
       "<style scoped>\n",
       "    .dataframe tbody tr th:only-of-type {\n",
       "        vertical-align: middle;\n",
       "    }\n",
       "\n",
       "    .dataframe tbody tr th {\n",
       "        vertical-align: top;\n",
       "    }\n",
       "\n",
       "    .dataframe thead th {\n",
       "        text-align: right;\n",
       "    }\n",
       "</style>\n",
       "<table border=\"1\" class=\"dataframe\">\n",
       "  <thead>\n",
       "    <tr style=\"text-align: right;\">\n",
       "      <th></th>\n",
       "      <th>Mental Health</th>\n",
       "      <th>Emotional_Maturity</th>\n",
       "    </tr>\n",
       "  </thead>\n",
       "  <tbody>\n",
       "    <tr>\n",
       "      <th>0</th>\n",
       "      <td>33</td>\n",
       "      <td>Extremely Unstable</td>\n",
       "    </tr>\n",
       "    <tr>\n",
       "      <th>1</th>\n",
       "      <td>36</td>\n",
       "      <td>Extremely Stable</td>\n",
       "    </tr>\n",
       "    <tr>\n",
       "      <th>2</th>\n",
       "      <td>14</td>\n",
       "      <td>Extremely Stable</td>\n",
       "    </tr>\n",
       "    <tr>\n",
       "      <th>3</th>\n",
       "      <td>20</td>\n",
       "      <td>Moderately Stable</td>\n",
       "    </tr>\n",
       "    <tr>\n",
       "      <th>4</th>\n",
       "      <td>35</td>\n",
       "      <td>Extremely Unstable</td>\n",
       "    </tr>\n",
       "    <tr>\n",
       "      <th>5</th>\n",
       "      <td>27</td>\n",
       "      <td>Extremely Unstable</td>\n",
       "    </tr>\n",
       "    <tr>\n",
       "      <th>6</th>\n",
       "      <td>25</td>\n",
       "      <td>Moderately Stable</td>\n",
       "    </tr>\n",
       "    <tr>\n",
       "      <th>7</th>\n",
       "      <td>19</td>\n",
       "      <td>Extremely Unstable</td>\n",
       "    </tr>\n",
       "    <tr>\n",
       "      <th>8</th>\n",
       "      <td>20</td>\n",
       "      <td>Moderately Stable</td>\n",
       "    </tr>\n",
       "    <tr>\n",
       "      <th>9</th>\n",
       "      <td>37</td>\n",
       "      <td>Moderately Stable</td>\n",
       "    </tr>\n",
       "    <tr>\n",
       "      <th>10</th>\n",
       "      <td>35</td>\n",
       "      <td>Extremely Unstable</td>\n",
       "    </tr>\n",
       "    <tr>\n",
       "      <th>11</th>\n",
       "      <td>24</td>\n",
       "      <td>Extremely Stable</td>\n",
       "    </tr>\n",
       "    <tr>\n",
       "      <th>12</th>\n",
       "      <td>30</td>\n",
       "      <td>Extremely Unstable</td>\n",
       "    </tr>\n",
       "    <tr>\n",
       "      <th>13</th>\n",
       "      <td>26</td>\n",
       "      <td>Extremely Unstable</td>\n",
       "    </tr>\n",
       "    <tr>\n",
       "      <th>14</th>\n",
       "      <td>34</td>\n",
       "      <td>Unstable</td>\n",
       "    </tr>\n",
       "    <tr>\n",
       "      <th>15</th>\n",
       "      <td>23</td>\n",
       "      <td>Moderately Stable</td>\n",
       "    </tr>\n",
       "    <tr>\n",
       "      <th>16</th>\n",
       "      <td>19</td>\n",
       "      <td>Extremely Unstable</td>\n",
       "    </tr>\n",
       "    <tr>\n",
       "      <th>17</th>\n",
       "      <td>18</td>\n",
       "      <td>Extremely Unstable</td>\n",
       "    </tr>\n",
       "    <tr>\n",
       "      <th>18</th>\n",
       "      <td>20</td>\n",
       "      <td>Moderately Stable</td>\n",
       "    </tr>\n",
       "    <tr>\n",
       "      <th>19</th>\n",
       "      <td>21</td>\n",
       "      <td>Unstable</td>\n",
       "    </tr>\n",
       "  </tbody>\n",
       "</table>\n",
       "</div>"
      ],
      "text/plain": [
       "    Mental Health  Emotional_Maturity\n",
       "0              33  Extremely Unstable\n",
       "1              36    Extremely Stable\n",
       "2              14    Extremely Stable\n",
       "3              20   Moderately Stable\n",
       "4              35  Extremely Unstable\n",
       "5              27  Extremely Unstable\n",
       "6              25   Moderately Stable\n",
       "7              19  Extremely Unstable\n",
       "8              20   Moderately Stable\n",
       "9              37   Moderately Stable\n",
       "10             35  Extremely Unstable\n",
       "11             24    Extremely Stable\n",
       "12             30  Extremely Unstable\n",
       "13             26  Extremely Unstable\n",
       "14             34            Unstable\n",
       "15             23   Moderately Stable\n",
       "16             19  Extremely Unstable\n",
       "17             18  Extremely Unstable\n",
       "18             20   Moderately Stable\n",
       "19             21            Unstable"
      ]
     },
     "execution_count": 207,
     "metadata": {},
     "output_type": "execute_result"
    }
   ],
   "source": [
    "df2 = pd.DataFrame(df['Emotional_Maturity'],df['Mental Health']).reset_index()\n",
    "df2.head(20)"
   ]
  },
  {
   "cell_type": "code",
   "execution_count": 213,
   "metadata": {},
   "outputs": [
    {
     "data": {
      "text/html": [
       "<div>\n",
       "<style scoped>\n",
       "    .dataframe tbody tr th:only-of-type {\n",
       "        vertical-align: middle;\n",
       "    }\n",
       "\n",
       "    .dataframe tbody tr th {\n",
       "        vertical-align: top;\n",
       "    }\n",
       "\n",
       "    .dataframe thead th {\n",
       "        text-align: right;\n",
       "    }\n",
       "</style>\n",
       "<table border=\"1\" class=\"dataframe\">\n",
       "  <thead>\n",
       "    <tr style=\"text-align: right;\">\n",
       "      <th></th>\n",
       "      <th>Mental Health</th>\n",
       "      <th>Emotional_Maturity</th>\n",
       "    </tr>\n",
       "  </thead>\n",
       "  <tbody>\n",
       "    <tr>\n",
       "      <th>0</th>\n",
       "      <td>33</td>\n",
       "      <td>4</td>\n",
       "    </tr>\n",
       "    <tr>\n",
       "      <th>1</th>\n",
       "      <td>36</td>\n",
       "      <td>1</td>\n",
       "    </tr>\n",
       "    <tr>\n",
       "      <th>2</th>\n",
       "      <td>14</td>\n",
       "      <td>1</td>\n",
       "    </tr>\n",
       "    <tr>\n",
       "      <th>3</th>\n",
       "      <td>20</td>\n",
       "      <td>2</td>\n",
       "    </tr>\n",
       "    <tr>\n",
       "      <th>4</th>\n",
       "      <td>35</td>\n",
       "      <td>4</td>\n",
       "    </tr>\n",
       "  </tbody>\n",
       "</table>\n",
       "</div>"
      ],
      "text/plain": [
       "   Mental Health  Emotional_Maturity\n",
       "0             33                   4\n",
       "1             36                   1\n",
       "2             14                   1\n",
       "3             20                   2\n",
       "4             35                   4"
      ]
     },
     "execution_count": 213,
     "metadata": {},
     "output_type": "execute_result"
    }
   ],
   "source": [
    "code = {\"Emotional_Maturity\":     {\"Extremely Stable\": 1,\n",
    "                                   \"Moderately Stable\": 2,\n",
    "                                   \"Unstable\":3,\n",
    "                                   \"Extremely Unstable\" : 4}}\n",
    "\n",
    "df2.replace(code, inplace=True)\n",
    "df2.head()"
   ]
  },
  {
   "cell_type": "code",
   "execution_count": 236,
   "metadata": {},
   "outputs": [
    {
     "data": {
      "text/html": [
       "<div>\n",
       "<style scoped>\n",
       "    .dataframe tbody tr th:only-of-type {\n",
       "        vertical-align: middle;\n",
       "    }\n",
       "\n",
       "    .dataframe tbody tr th {\n",
       "        vertical-align: top;\n",
       "    }\n",
       "\n",
       "    .dataframe thead th {\n",
       "        text-align: right;\n",
       "    }\n",
       "</style>\n",
       "<table border=\"1\" class=\"dataframe\">\n",
       "  <thead>\n",
       "    <tr style=\"text-align: right;\">\n",
       "      <th></th>\n",
       "      <th>Mental Health</th>\n",
       "      <th>Emotional Maturity Scale</th>\n",
       "    </tr>\n",
       "  </thead>\n",
       "  <tbody>\n",
       "    <tr>\n",
       "      <th>Mental Health</th>\n",
       "      <td>1.00000</td>\n",
       "      <td>-0.09853</td>\n",
       "    </tr>\n",
       "    <tr>\n",
       "      <th>Emotional Maturity Scale</th>\n",
       "      <td>-0.09853</td>\n",
       "      <td>1.00000</td>\n",
       "    </tr>\n",
       "  </tbody>\n",
       "</table>\n",
       "</div>"
      ],
      "text/plain": [
       "                          Mental Health  Emotional Maturity Scale\n",
       "Mental Health                   1.00000                  -0.09853\n",
       "Emotional Maturity Scale       -0.09853                   1.00000"
      ]
     },
     "execution_count": 236,
     "metadata": {},
     "output_type": "execute_result"
    }
   ],
   "source": [
    "df1.corr(method='pearson')"
   ]
  },
  {
   "cell_type": "code",
   "execution_count": 223,
   "metadata": {},
   "outputs": [
    {
     "data": {
      "text/plain": [
       "0.0030632578642073895"
      ]
     },
     "execution_count": 223,
     "metadata": {},
     "output_type": "execute_result"
    }
   ],
   "source": [
    "import scipy.stats\n",
    "scipy.stats.pearsonr(df2['Mental Health'], df2['Emotional_Maturity'])[0]"
   ]
  },
  {
   "cell_type": "code",
   "execution_count": 288,
   "metadata": {},
   "outputs": [
    {
     "data": {
      "text/plain": [
       "array([33, 36, 14, 20, 35, 27, 25, 19, 20, 37, 35, 24, 30, 26, 34, 23, 19,\n",
       "       18, 20, 21, 28, 15, 16, 25, 45, 27, 17, 20, 22, 21, 17, 37, 27, 21,\n",
       "       30, 16, 36, 32, 23, 37, 20, 16, 27, 34, 33, 18, 20, 29, 14, 25, 32,\n",
       "       39, 35, 32, 30, 21, 21, 14, 36, 31, 29, 19, 18, 35, 39, 19, 19, 33,\n",
       "       39, 14, 32, 33, 15, 14, 10, 40, 31, 36, 21, 20, 40, 36, 33, 12, 10,\n",
       "       39, 36, 32, 32, 35, 39, 15, 12, 10, 11, 15, 20, 20, 13, 33, 39, 30,\n",
       "       15, 15, 29, 17, 12, 40, 35, 20, 28, 20, 35, 30, 12, 39, 16, 18, 28,\n",
       "       34, 32, 18, 19, 32, 12, 32, 27, 34, 36, 30, 32, 17, 20, 12, 35, 32,\n",
       "       31, 17, 16, 36, 35, 19, 18, 37, 35, 10, 30, 33, 15, 20],\n",
       "      dtype=int64)"
      ]
     },
     "execution_count": 288,
     "metadata": {},
     "output_type": "execute_result"
    }
   ],
   "source": [
    "x = df1['x'].values\n",
    "y = df1['y'].values\n",
    "x"
   ]
  },
  {
   "cell_type": "code",
   "execution_count": 233,
   "metadata": {},
   "outputs": [],
   "source": [
    "slope, intercept, r, p, stderr = scipy.stats.linregress(x, y)\n",
    "line = f'Regression line: y={intercept:.2f}+{slope:.2f}x, r={r:.2f}'"
   ]
  },
  {
   "cell_type": "code",
   "execution_count": 313,
   "metadata": {},
   "outputs": [
    {
     "data": {
      "text/plain": [
       "<Figure size 576x360 with 0 Axes>"
      ]
     },
     "metadata": {},
     "output_type": "display_data"
    },
    {
     "data": {
      "image/png": "[encoded data removed]",
      "text/plain": [
       "<Figure size 432x288 with 1 Axes>"
      ]
     },
     "metadata": {
      "needs_background": "light"
     },
     "output_type": "display_data"
    }
   ],
   "source": [
    "plt.figure(figsize=(8,5))\n",
    "fig, ax = plt.subplots()\n",
    "ax.plot(x, y, linewidth=0, marker='s', label='Data points')\n",
    "ax.plot(x, intercept + slope * x, label='Correlation')\n",
    "ax.set_xlabel('Mental Health')\n",
    "ax.set_ylabel('Emotional Maturity')\n",
    "ax.legend(facecolor='white')\n",
    "plt.legend(bbox_to_anchor=(1.05, 1), loc=2, borderaxespad=0.)\n",
    "plt.tight_layout()\n",
    "plt.savefig('sample2.png')"
   ]
  },
  {
   "cell_type": "code",
   "execution_count": 238,
   "metadata": {},
   "outputs": [
    {
     "data": {
      "text/plain": [
       "<seaborn.axisgrid.PairGrid at 0x186d8375d08>"
      ]
     },
     "execution_count": 238,
     "metadata": {},
     "output_type": "execute_result"
    },
    {
     "data": {
      "image/png": "[encoded data removed]",
      "text/plain": [
       "<Figure size 360x360 with 6 Axes>"
      ]
     },
     "metadata": {
      "needs_background": "light"
     },
     "output_type": "display_data"
    }
   ],
   "source": [
    "sns.pairplot(df1)"
   ]
  },
  {
   "cell_type": "code",
   "execution_count": 260,
   "metadata": {},
   "outputs": [
    {
     "data": {
      "text/html": [
       "<div>\n",
       "<style scoped>\n",
       "    .dataframe tbody tr th:only-of-type {\n",
       "        vertical-align: middle;\n",
       "    }\n",
       "\n",
       "    .dataframe tbody tr th {\n",
       "        vertical-align: top;\n",
       "    }\n",
       "\n",
       "    .dataframe thead th {\n",
       "        text-align: right;\n",
       "    }\n",
       "</style>\n",
       "<table border=\"1\" class=\"dataframe\">\n",
       "  <thead>\n",
       "    <tr style=\"text-align: right;\">\n",
       "      <th></th>\n",
       "      <th>df</th>\n",
       "      <th>sum_sq</th>\n",
       "      <th>mean_sq</th>\n",
       "      <th>F</th>\n",
       "      <th>PR(&gt;F)</th>\n",
       "    </tr>\n",
       "  </thead>\n",
       "  <tbody>\n",
       "    <tr>\n",
       "      <th>C(emotional_maturity_scale)</th>\n",
       "      <td>25.0</td>\n",
       "      <td>10855.198333</td>\n",
       "      <td>434.207933</td>\n",
       "      <td>52.234274</td>\n",
       "      <td>4.662313e-54</td>\n",
       "    </tr>\n",
       "    <tr>\n",
       "      <th>Residual</th>\n",
       "      <td>124.0</td>\n",
       "      <td>1030.775000</td>\n",
       "      <td>8.312702</td>\n",
       "      <td>NaN</td>\n",
       "      <td>NaN</td>\n",
       "    </tr>\n",
       "  </tbody>\n",
       "</table>\n",
       "</div>"
      ],
      "text/plain": [
       "                                df        sum_sq     mean_sq          F  \\\n",
       "C(emotional_maturity_scale)   25.0  10855.198333  434.207933  52.234274   \n",
       "Residual                     124.0   1030.775000    8.312702        NaN   \n",
       "\n",
       "                                   PR(>F)  \n",
       "C(emotional_maturity_scale)  4.662313e-54  \n",
       "Residual                              NaN  "
      ]
     },
     "execution_count": 260,
     "metadata": {},
     "output_type": "execute_result"
    }
   ],
   "source": [
    "model = ols('mental_health ~ C(emotional_maturity_scale)', data=df1).fit()\n",
    "anova_table = sm.stats.anova_lm(model, typ=1)\n",
    "anova_table\n"
   ]
  },
  {
   "cell_type": "code",
   "execution_count": 256,
   "metadata": {},
   "outputs": [
    {
     "data": {
      "text/plain": [
       "F_onewayResult(statistic=768.2413726755112, pvalue=1.7491864703735616e-84)"
      ]
     },
     "execution_count": 256,
     "metadata": {},
     "output_type": "execute_result"
    }
   ],
   "source": [
    "stats.f_oneway(df1['mental_health'],df1['emotional_maturity_scale'])"
   ]
  },
  {
   "cell_type": "code",
   "execution_count": 261,
   "metadata": {},
   "outputs": [
    {
     "data": {
      "text/html": [
       "<div>\n",
       "<style scoped>\n",
       "    .dataframe tbody tr th:only-of-type {\n",
       "        vertical-align: middle;\n",
       "    }\n",
       "\n",
       "    .dataframe tbody tr th {\n",
       "        vertical-align: top;\n",
       "    }\n",
       "\n",
       "    .dataframe thead th {\n",
       "        text-align: right;\n",
       "    }\n",
       "</style>\n",
       "<table border=\"1\" class=\"dataframe\">\n",
       "  <thead>\n",
       "    <tr style=\"text-align: right;\">\n",
       "      <th></th>\n",
       "      <th>Gender</th>\n",
       "      <th>Emotional Maturity</th>\n",
       "      <th>emotional_maturity_scale</th>\n",
       "      <th>Parenting Type</th>\n",
       "      <th>Value</th>\n",
       "    </tr>\n",
       "  </thead>\n",
       "  <tbody>\n",
       "    <tr>\n",
       "      <th>0</th>\n",
       "      <td>MALE</td>\n",
       "      <td>Extremely Stable</td>\n",
       "      <td>59</td>\n",
       "      <td>Permissive</td>\n",
       "      <td>30</td>\n",
       "    </tr>\n",
       "    <tr>\n",
       "      <th>1</th>\n",
       "      <td>MALE</td>\n",
       "      <td>Extremely Stable</td>\n",
       "      <td>78</td>\n",
       "      <td>Permissive</td>\n",
       "      <td>29</td>\n",
       "    </tr>\n",
       "    <tr>\n",
       "      <th>2</th>\n",
       "      <td>MALE</td>\n",
       "      <td>Unstable</td>\n",
       "      <td>103</td>\n",
       "      <td>Permissive</td>\n",
       "      <td>26</td>\n",
       "    </tr>\n",
       "    <tr>\n",
       "      <th>3</th>\n",
       "      <td>MALE</td>\n",
       "      <td>Extremely Unstable</td>\n",
       "      <td>140</td>\n",
       "      <td>Permissive</td>\n",
       "      <td>24</td>\n",
       "    </tr>\n",
       "    <tr>\n",
       "      <th>4</th>\n",
       "      <td>MALE</td>\n",
       "      <td>Extremely Stable</td>\n",
       "      <td>72</td>\n",
       "      <td>Permissive</td>\n",
       "      <td>27</td>\n",
       "    </tr>\n",
       "  </tbody>\n",
       "</table>\n",
       "</div>"
      ],
      "text/plain": [
       "  Gender  Emotional Maturity  emotional_maturity_scale Parenting Type  Value\n",
       "0   MALE    Extremely Stable                        59     Permissive     30\n",
       "1   MALE    Extremely Stable                        78     Permissive     29\n",
       "2   MALE            Unstable                       103     Permissive     26\n",
       "3   MALE  Extremely Unstable                       140     Permissive     24\n",
       "4   MALE    Extremely Stable                        72     Permissive     27"
      ]
     },
     "execution_count": 261,
     "metadata": {},
     "output_type": "execute_result"
    }
   ],
   "source": [
    "df_gender = pd.melt(df, id_vars=['Gender','Emotional_Maturity','Emotional Maturity Scale'], value_vars=['Permissive','Authoritarian','Authoritative'])\n",
    "df_gender.columns = ['Gender','Emotional Maturity','emotional_maturity_scale','Parenting Type','Value']\n",
    "df_gender.head()"
   ]
  },
  {
   "cell_type": "code",
   "execution_count": 263,
   "metadata": {},
   "outputs": [
    {
     "data": {
      "text/plain": [
       "<matplotlib.legend.Legend at 0x186d6ec9448>"
      ]
     },
     "execution_count": 263,
     "metadata": {},
     "output_type": "execute_result"
    },
    {
     "data": {
      "image/png": "[encoded data removed]",
      "text/plain": [
       "<Figure size 576x360 with 1 Axes>"
      ]
     },
     "metadata": {
      "needs_background": "light"
     },
     "output_type": "display_data"
    }
   ],
   "source": [
    "plt.figure(figsize=(8,5))\n",
    "sns.boxplot(x=\"Emotional Maturity\", y=\"Value\", hue=\"Gender\", data=df_gender)\n",
    "plt.legend(bbox_to_anchor=(1.05, 1), loc=2, borderaxespad=0.)"
   ]
  },
  {
   "cell_type": "code",
   "execution_count": 275,
   "metadata": {},
   "outputs": [
    {
     "data": {
      "text/html": [
       "<div>\n",
       "<style scoped>\n",
       "    .dataframe tbody tr th:only-of-type {\n",
       "        vertical-align: middle;\n",
       "    }\n",
       "\n",
       "    .dataframe tbody tr th {\n",
       "        vertical-align: top;\n",
       "    }\n",
       "\n",
       "    .dataframe thead th {\n",
       "        text-align: right;\n",
       "    }\n",
       "</style>\n",
       "<table border=\"1\" class=\"dataframe\">\n",
       "  <thead>\n",
       "    <tr style=\"text-align: right;\">\n",
       "      <th></th>\n",
       "      <th>x</th>\n",
       "      <th>y</th>\n",
       "    </tr>\n",
       "  </thead>\n",
       "  <tbody>\n",
       "    <tr>\n",
       "      <th>0</th>\n",
       "      <td>33</td>\n",
       "      <td>125</td>\n",
       "    </tr>\n",
       "    <tr>\n",
       "      <th>1</th>\n",
       "      <td>36</td>\n",
       "      <td>78</td>\n",
       "    </tr>\n",
       "    <tr>\n",
       "      <th>2</th>\n",
       "      <td>14</td>\n",
       "      <td>76</td>\n",
       "    </tr>\n",
       "    <tr>\n",
       "      <th>3</th>\n",
       "      <td>20</td>\n",
       "      <td>85</td>\n",
       "    </tr>\n",
       "    <tr>\n",
       "      <th>4</th>\n",
       "      <td>35</td>\n",
       "      <td>146</td>\n",
       "    </tr>\n",
       "  </tbody>\n",
       "</table>\n",
       "</div>"
      ],
      "text/plain": [
       "    x    y\n",
       "0  33  125\n",
       "1  36   78\n",
       "2  14   76\n",
       "3  20   85\n",
       "4  35  146"
      ]
     },
     "execution_count": 275,
     "metadata": {},
     "output_type": "execute_result"
    }
   ],
   "source": [
    "df1.columns = ['x','y']\n",
    "df1.head()"
   ]
  },
  {
   "cell_type": "code",
   "execution_count": 280,
   "metadata": {},
   "outputs": [
    {
     "name": "stdout",
     "output_type": "stream",
     "text": [
      "3848\n",
      "16475\n",
      "110600\n",
      "2003775\n",
      "417904\n"
     ]
    }
   ],
   "source": [
    "print(np.sum(df1['x']))\n",
    "print(np.sum(df1['y']))\n",
    "print(np.sum(df1['x']**2))\n",
    "print(np.sum(df1['y']**2))\n",
    "print(np.sum(df1['x']* df1['y']))"
   ]
  },
  {
   "cell_type": "code",
   "execution_count": null,
   "metadata": {},
   "outputs": [],
   "source": []
  }
 ],
 "metadata": {
  "kernelspec": {
   "display_name": "Python 3",
   "language": "python",
   "name": "python3"
  },
  "language_info": {
   "codemirror_mode": {
    "name": "ipython",
    "version": 3
   },
   "file_extension": ".py",
   "mimetype": "text/x-python",
   "name": "python",
   "nbconvert_exporter": "python",
   "pygments_lexer": "ipython3",
   "version": "3.7.6"
  }
 },
 "nbformat": 4,
 "nbformat_minor": 4
}
